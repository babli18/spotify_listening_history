{
 "cells": [
  {
   "cell_type": "code",
   "execution_count": 1,
   "id": "7528eb26",
   "metadata": {},
   "outputs": [],
   "source": [
    "import spotipy\n",
    "from dotenv import load_dotenv\n",
    "import os\n",
    "from spotipy.oauth2 import SpotifyOAuth"
   ]
  },
  {
   "cell_type": "code",
   "execution_count": 2,
   "id": "558b9891",
   "metadata": {},
   "outputs": [],
   "source": [
    "load_dotenv()\n",
    "\n",
    "client_id = os.getenv('CLIENT_ID')\n",
    "client_secret = os.getenv('CLIENT_SECRET')\n",
    "uri = os.getenv(\"uri\")\n",
    "\n",
    "sp = spotipy.Spotify(auth_manager=SpotifyOAuth(client_id=client_id,\n",
    "                                               client_secret=client_secret,\n",
    "                                               redirect_uri = uri,\n",
    "                                               scope=\"user-read-recently-played\"))"
   ]
  },
  {
   "cell_type": "code",
   "execution_count": 19,
   "id": "31627bfb",
   "metadata": {},
   "outputs": [
    {
     "name": "stdout",
     "output_type": "stream",
     "text": [
      "\n",
      "--- Recently Played Tracks ---\n",
      "2025-04-16 20:23:23: One Of The Girls (with JENNIE, Lily Rose Depp) by The Weeknd | ID: 7CyPwkp0oE8Ro9Dd5CUDjW\n",
      "2025-04-16 20:22:13: Come Over by LE SSERAFIM | ID: 1tI8Ubt5VEMWDoGL08pomF\n",
      "2025-04-16 20:19:55: CLIK CLAK by BABYMONSTER | ID: 0Rq9lIn9fl4wiW9Tg72ifr\n",
      "2025-04-16 20:17:06: ExtraL (feat. Doechii) by JENNIE | ID: 4EIFwndJvGpgFjsEbNuYif\n",
      "2025-04-16 20:14:17: Seoul City by JENNIE | ID: 3pY2M4k9BSk7ulLBSV0tcX\n",
      "2025-04-16 20:10:47: Popular (with Playboi Carti & Madonna) - From The Idol Vol. 1 (Music from the HBO Original Series) by The Weeknd | ID: 6WzRpISELf3YglGAh7TXcG\n",
      "2025-04-16 20:07:11: Paro by Nej | ID: 6zvHwijlnwqjS6d46yAffi\n",
      "2025-04-16 12:45:08: Best Of Me by BTS | ID: 5C6A1WXVfKvBBQmaFFnBgs\n",
      "2025-04-16 11:25:29: Nausicaä Requiem (From \"Nausicaä of the Valley of the Wind\") [Piano Version] by Nikolai Tal | ID: 25qY3HV4kj52jE2wKCl50O\n",
      "2025-04-16 11:24:05: One Of The Girls (with JENNIE, Lily Rose Depp) by The Weeknd | ID: 7CyPwkp0oE8Ro9Dd5CUDjW\n",
      "2025-04-16 07:15:59: F.T.S. by JENNIE | ID: 1iRIdATb1I276VdKK7JVAB\n",
      "2025-04-16 07:05:15: ZEN by JENNIE | ID: 2chbuybiy6aDDBC985tJcP\n",
      "2025-04-16 06:53:23: Seoul City by JENNIE | ID: 3pY2M4k9BSk7ulLBSV0tcX\n",
      "2025-04-16 06:35:39: Paro by Nej | ID: 6zvHwijlnwqjS6d46yAffi\n",
      "2025-04-15 15:06:09: BTS Cypher Pt.2: Triptych by BTS | ID: 41eoHn3yTDYMV9hFn50ef4\n",
      "2025-04-15 12:35:27: Right Round by Flo Rida | ID: 3GpbwCm3YxiWDvy29Uo3vP\n",
      "2025-04-15 10:34:13: Meera by Raja Kumari | ID: 4ZOJZwnekb8JbI9e64syxx\n",
      "2025-04-14 18:14:21: IN THE RAIN by XG | ID: 7gJsLJXg9WIMFG2AoxddtD\n",
      "2025-04-14 16:27:51: IN THE RAIN by XG | ID: 7gJsLJXg9WIMFG2AoxddtD\n",
      "2025-04-14 15:08:36: No-Return (Into the unknown) by LE SSERAFIM | ID: 6DSGb5CmwHX4pvclq8HUU1\n",
      "2025-04-14 12:42:05: GO HARD by TWICE | ID: 5uZ5VUoj2al8GttE421bTD\n",
      "2025-04-14 10:58:49: LA DI DA by EVERGLOW | ID: 6mIjJONoUMvGPT9Kzrab3L\n",
      "2025-04-14 10:18:39: Rest In Power by Hanumankind | ID: 7CgLVQF6NK5jrWzGscAeHX\n",
      "2025-04-13 19:43:57: BADGRRRL by LISA | ID: 5TXztZ5uNjv2XtUupk3i7w\n",
      "2025-04-13 19:13:30: Thunder by LISA | ID: 4d3buGFeBDfll8IpoMRCQn\n",
      "2025-04-13 14:56:50: MEOW by MEOVV | ID: 72gPDy1zVt95zVNali0IhK\n",
      "2025-04-13 12:33:38: Unravel - Acoustic by PianoDeuss | ID: 3pt5BGZMOGoZG1kI66vviL\n",
      "2025-04-13 11:13:16: Impurities by LE SSERAFIM | ID: 7mYwDmbbp8UPLlnRjTJ54X\n",
      "2025-04-13 11:09:51: SPOT! by ZICO | ID: 1SS0WlKhJewviwEDZ6dWj0\n",
      "2025-04-13 11:07:04: Unravel - Acoustic by PianoDeuss | ID: 3pt5BGZMOGoZG1kI66vviL\n",
      "2025-04-13 11:03:08: BATTER UP by BABYMONSTER | ID: 3VBj0lzjmhTzVFPEDOjNCG\n",
      "2025-04-13 10:37:21: Bon Bon Chocolat by EVERGLOW | ID: 5XS0GCCIotaI6XtsYcIKeX\n",
      "2025-04-13 10:33:33: WHISTLE - Acoustic Ver. by BLACKPINK | ID: 20MOKIGONywL5xIoB7RRAR\n",
      "2025-04-13 10:22:14: Remember by youra | ID: 2MO6sxfNbVBkGvZRPJCPbe\n",
      "2025-04-13 10:18:42: Still With You by Smyang Piano | ID: 3YhzWdoDeIWvxtj8h4zrMl\n",
      "2025-04-12 12:45:06: BTS Cypher Pt.2: Triptych by BTS | ID: 41eoHn3yTDYMV9hFn50ef4\n",
      "2025-04-12 11:02:34: F.T.S. by JENNIE | ID: 1iRIdATb1I276VdKK7JVAB\n",
      "2025-04-12 10:35:40: Go Go by BTS | ID: 5vOT8VO87TAnUjh0oADwb1\n",
      "2025-04-12 10:31:45: 始まり by Alisa Okehazama | ID: 6jLK5vQwd7MM8DbvOLm0kQ\n",
      "2025-04-12 10:24:22: lug by Juliet Ivy | ID: 7vqsxodlCaD8OMIsxsmCLE\n",
      "2025-04-12 10:22:06: Fantastic Baby by BIGBANG | ID: 26eV0R7nbqtlzh316ncU99\n",
      "2025-04-12 10:18:16: Me And My Broken Heart by Rixton | ID: 1oew3nFNY3vMacJAsvry0S\n",
      "2025-04-12 00:28:55: Henry, come on by Lana Del Rey | ID: 6CYldrsUPBsiPtfLW4xZCl\n",
      "2025-04-11 23:50:42: Quit (feat. Ariana Grande) by Cashmere Cat | ID: 4rwqrKdwlFWJ6LvPYaOtgn\n",
      "2025-04-11 23:16:01: Quit (feat. Ariana Grande) by Cashmere Cat | ID: 4rwqrKdwlFWJ6LvPYaOtgn\n",
      "2025-04-11 23:11:42: Quit (feat. Ariana Grande) by Cashmere Cat | ID: 4rwqrKdwlFWJ6LvPYaOtgn\n",
      "2025-04-11 23:07:24: Quit (feat. Ariana Grande) by Cashmere Cat | ID: 4rwqrKdwlFWJ6LvPYaOtgn\n",
      "2025-04-11 23:03:05: Quit (feat. Ariana Grande) by Cashmere Cat | ID: 4rwqrKdwlFWJ6LvPYaOtgn\n",
      "2025-04-11 21:23:34: Quit (feat. Ariana Grande) by Cashmere Cat | ID: 4rwqrKdwlFWJ6LvPYaOtgn\n",
      "2025-04-11 20:19:03: Quit (feat. Ariana Grande) by Cashmere Cat | ID: 4rwqrKdwlFWJ6LvPYaOtgn\n"
     ]
    }
   ],
   "source": [
    "import pandas as pd\n",
    "from datetime import datetime\n",
    "\n",
    "# Get recently played tracks (up to 50 most recent)\n",
    "recent_tracks = sp.current_user_recently_played()\n",
    "\n",
    "# Lists to store the data\n",
    "time_stamps = []\n",
    "artists = []\n",
    "tracks = []\n",
    "track_ids = []\n",
    "\n",
    "print(\"\\n--- Recently Played Tracks ---\")\n",
    "for item in recent_tracks['items']:\n",
    "    track_info = item['track']\n",
    "    \n",
    "    # Extract and format timestamp\n",
    "    played_at = item['played_at']\n",
    "    timestamp = datetime.fromisoformat(played_at.replace('Z', '+00:00'))\n",
    "    formatted_time = timestamp.strftime('%Y-%m-%d %H:%M:%S')\n",
    "    \n",
    "    # Append data to lists\n",
    "    time_stamps.append(formatted_time)\n",
    "    tracks.append(track_info['name'])\n",
    "    artists.append(track_info['artists'][0]['name'])\n",
    "    track_ids.append(track_info['id'])  # <-- Add track ID\n",
    "    \n",
    "    print(f\"{formatted_time}: {track_info['name']} by {track_info['artists'][0]['name']} | ID: {track_info['id']}\")\n",
    "\n",
    "# Create DataFrame\n",
    "df = pd.DataFrame({\n",
    "    'time_stamp': time_stamps,\n",
    "    'artist': artists,\n",
    "    'track': tracks,\n",
    "    'track_id': track_ids\n",
    "})\n"
   ]
  },
  {
   "cell_type": "code",
   "execution_count": 20,
   "id": "b3de600b",
   "metadata": {},
   "outputs": [],
   "source": [
    "df.to_csv('recently_played_tracks/recent_track_Apr16.csv')"
   ]
  },
  {
   "cell_type": "code",
   "execution_count": null,
   "id": "b929aa27",
   "metadata": {},
   "outputs": [],
   "source": []
  }
 ],
 "metadata": {
  "kernelspec": {
   "display_name": "Python 3",
   "language": "python",
   "name": "python3"
  },
  "language_info": {
   "codemirror_mode": {
    "name": "ipython",
    "version": 3
   },
   "file_extension": ".py",
   "mimetype": "text/x-python",
   "name": "python",
   "nbconvert_exporter": "python",
   "pygments_lexer": "ipython3",
   "version": "3.10.0"
  }
 },
 "nbformat": 4,
 "nbformat_minor": 5
}
