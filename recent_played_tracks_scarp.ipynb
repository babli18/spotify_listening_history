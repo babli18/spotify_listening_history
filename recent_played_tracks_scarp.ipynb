{
 "cells": [
  {
   "cell_type": "code",
   "execution_count": 1,
   "id": "7528eb26",
   "metadata": {},
   "outputs": [],
   "source": [
    "import spotipy\n",
    "from dotenv import load_dotenv\n",
    "import os\n",
    "from spotipy.oauth2 import SpotifyOAuth"
   ]
  },
  {
   "cell_type": "code",
   "execution_count": 2,
   "id": "558b9891",
   "metadata": {},
   "outputs": [],
   "source": [
    "load_dotenv()\n",
    "\n",
    "client_id = os.getenv('CLIENT_ID')\n",
    "client_secret = os.getenv('CLIENT_SECRET')\n",
    "uri = os.getenv(\"uri\")\n",
    "\n",
    "sp = spotipy.Spotify(auth_manager=SpotifyOAuth(client_id=client_id,\n",
    "                                               client_secret=client_secret,\n",
    "                                               redirect_uri = uri,\n",
    "                                               scope=\"user-read-recently-played\"))"
   ]
  },
  {
   "cell_type": "code",
   "execution_count": 16,
   "id": "2a95db60",
   "metadata": {},
   "outputs": [
    {
     "name": "stdout",
     "output_type": "stream",
     "text": [
      "\n",
      "--- Recently Played Tracks ---\n",
      "2025-04-16 20:23:23: One Of The Girls (with JENNIE, Lily Rose Depp) by The Weeknd\n",
      "2025-04-16 20:22:13: Come Over by LE SSERAFIM\n",
      "2025-04-16 20:19:55: CLIK CLAK by BABYMONSTER\n",
      "2025-04-16 20:17:06: ExtraL (feat. Doechii) by JENNIE\n",
      "2025-04-16 20:14:17: Seoul City by JENNIE\n",
      "2025-04-16 20:10:47: Popular (with Playboi Carti & Madonna) - From The Idol Vol. 1 (Music from the HBO Original Series) by The Weeknd\n",
      "2025-04-16 20:07:11: Paro by Nej\n",
      "2025-04-16 12:45:08: Best Of Me by BTS\n",
      "2025-04-16 11:25:29: Nausicaä Requiem (From \"Nausicaä of the Valley of the Wind\") [Piano Version] by Nikolai Tal\n",
      "2025-04-16 11:24:05: One Of The Girls (with JENNIE, Lily Rose Depp) by The Weeknd\n",
      "2025-04-16 07:15:59: F.T.S. by JENNIE\n",
      "2025-04-16 07:05:15: ZEN by JENNIE\n",
      "2025-04-16 06:53:23: Seoul City by JENNIE\n",
      "2025-04-16 06:35:39: Paro by Nej\n",
      "2025-04-15 15:06:09: BTS Cypher Pt.2: Triptych by BTS\n",
      "2025-04-15 12:35:27: Right Round by Flo Rida\n",
      "2025-04-15 10:34:13: Meera by Raja Kumari\n",
      "2025-04-14 18:14:21: IN THE RAIN by XG\n",
      "2025-04-14 16:27:51: IN THE RAIN by XG\n",
      "2025-04-14 15:08:36: No-Return (Into the unknown) by LE SSERAFIM\n",
      "2025-04-14 12:42:05: GO HARD by TWICE\n",
      "2025-04-14 10:58:49: LA DI DA by EVERGLOW\n",
      "2025-04-14 10:18:39: Rest In Power by Hanumankind\n",
      "2025-04-13 19:43:57: BADGRRRL by LISA\n",
      "2025-04-13 19:13:30: Thunder by LISA\n",
      "2025-04-13 14:56:50: MEOW by MEOVV\n",
      "2025-04-13 12:33:38: Unravel - Acoustic by PianoDeuss\n",
      "2025-04-13 11:13:16: Impurities by LE SSERAFIM\n",
      "2025-04-13 11:09:51: SPOT! by ZICO\n",
      "2025-04-13 11:07:04: Unravel - Acoustic by PianoDeuss\n",
      "2025-04-13 11:03:08: BATTER UP by BABYMONSTER\n",
      "2025-04-13 10:37:21: Bon Bon Chocolat by EVERGLOW\n",
      "2025-04-13 10:33:33: WHISTLE - Acoustic Ver. by BLACKPINK\n",
      "2025-04-13 10:22:14: Remember by youra\n",
      "2025-04-13 10:18:42: Still With You by Smyang Piano\n",
      "2025-04-12 12:45:06: BTS Cypher Pt.2: Triptych by BTS\n",
      "2025-04-12 11:02:34: F.T.S. by JENNIE\n",
      "2025-04-12 10:35:40: Go Go by BTS\n",
      "2025-04-12 10:31:45: 始まり by Alisa Okehazama\n",
      "2025-04-12 10:24:22: lug by Juliet Ivy\n",
      "2025-04-12 10:22:06: Fantastic Baby by BIGBANG\n",
      "2025-04-12 10:18:16: Me And My Broken Heart by Rixton\n",
      "2025-04-12 00:28:55: Henry, come on by Lana Del Rey\n",
      "2025-04-11 23:50:42: Quit (feat. Ariana Grande) by Cashmere Cat\n",
      "2025-04-11 23:16:01: Quit (feat. Ariana Grande) by Cashmere Cat\n",
      "2025-04-11 23:11:42: Quit (feat. Ariana Grande) by Cashmere Cat\n",
      "2025-04-11 23:07:24: Quit (feat. Ariana Grande) by Cashmere Cat\n",
      "2025-04-11 23:03:05: Quit (feat. Ariana Grande) by Cashmere Cat\n",
      "2025-04-11 21:23:34: Quit (feat. Ariana Grande) by Cashmere Cat\n",
      "2025-04-11 20:19:03: Quit (feat. Ariana Grande) by Cashmere Cat\n"
     ]
    }
   ],
   "source": [
    "import pandas as pd\n",
    "from datetime import datetime\n",
    "\n",
    "# Get recently played tracks (up to 50 most recent)\n",
    "recent_tracks = sp.current_user_recently_played()\n",
    "\n",
    "# Lists to store the data\n",
    "time_stamps = []\n",
    "artists = []\n",
    "tracks = []\n",
    "\n",
    "print(\"\\n--- Recently Played Tracks ---\")\n",
    "for item in recent_tracks['items']:\n",
    "    track_info = item['track']\n",
    "    \n",
    "    # Extract and format timestamp\n",
    "    played_at = item['played_at']\n",
    "    timestamp = datetime.fromisoformat(played_at.replace('Z', '+00:00'))\n",
    "    formatted_time = timestamp.strftime('%Y-%m-%d %H:%M:%S')\n",
    "    \n",
    "    # Append data to lists\n",
    "    time_stamps.append(formatted_time)\n",
    "    tracks.append(track_info['name'])\n",
    "    artists.append(track_info['artists'][0]['name'])\n",
    "    \n",
    "    print(f\"{formatted_time}: {track_info['name']} by {track_info['artists'][0]['name']}\")\n",
    "\n",
    "# Create DataFrame\n",
    "df = pd.DataFrame({\n",
    "    'time_stamp': time_stamps,\n",
    "    'artist': artists,\n",
    "    'track': tracks\n",
    "})\n"
   ]
  },
  {
   "cell_type": "code",
   "execution_count": 18,
   "id": "b3de600b",
   "metadata": {},
   "outputs": [],
   "source": [
    "df.to_csv('recently_played_tracks/recent_track_Apr16.csv')"
   ]
  },
  {
   "cell_type": "code",
   "execution_count": null,
   "id": "b929aa27",
   "metadata": {},
   "outputs": [],
   "source": []
  }
 ],
 "metadata": {
  "kernelspec": {
   "display_name": "Python 3",
   "language": "python",
   "name": "python3"
  },
  "language_info": {
   "codemirror_mode": {
    "name": "ipython",
    "version": 3
   },
   "file_extension": ".py",
   "mimetype": "text/x-python",
   "name": "python",
   "nbconvert_exporter": "python",
   "pygments_lexer": "ipython3",
   "version": "3.10.0"
  }
 },
 "nbformat": 4,
 "nbformat_minor": 5
}
